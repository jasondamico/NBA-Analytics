{
 "cells": [
  {
   "cell_type": "markdown",
   "metadata": {},
   "source": [
    "# Filtering\n",
    "\n",
    "This notebook details the thought process behind the filtering techniques used in this project and provies the code used to put these filters into use."
   ]
  },
  {
   "cell_type": "code",
   "execution_count": 1,
   "metadata": {},
   "outputs": [],
   "source": [
    "import pandas as pd\n",
    "\n",
    "season_average_dfs = []\n",
    "\n",
    "for season in range (2000, 2021):\n",
    "    try:\n",
    "        file_name = f\"../data/season_averages/{season}_stats.csv\"\n",
    "        df = pd.read_csv(file_name)\n",
    "\n",
    "        season_average_dfs.append(df)\n",
    "    except FileNotFoundError:\n",
    "        pass"
   ]
  },
  {
   "cell_type": "markdown",
   "metadata": {},
   "source": [
    "## 0. Identifying the problem\n",
    "\n",
    "For each season that I plan on analyzing, over 400 players and their stats are available. However, only a select few of those players are even in the MVP conversation, and its rare to see any more than 5 players in pundet predictions for the MVP recipient at the end of the season. For that reason, the data can be significantly cleaned up of players irrelevant to the MVP conversation.\n",
    "\n",
    "It's extremely difficult to quantify what makes a player in/out of the MVP conversation. Some general prerequisates for an MVP that would not be debated in NBA circles are as follows. Admittedly, these filters are conservative, but a large portion of the players in the data are removed by them. The candidate must:\n",
    "\n",
    "1. Play at least 20 minutes/game\n",
    "2. Consistently start for their team\n",
    "3. Make the All-Star team (while this is admittedly somewhat arbitrary, STATS__________)\n",
    "\n",
    "Another thing to note about filtering is that while it would be nice to filter down to only the \"real\" contenders (around 5 players for a given season), the players who *don't* receive votes are important data points as well (particularly in the context of training). Therefore, **my aim is to filter down to approximately 50 players for a given season**."
   ]
  },
  {
   "cell_type": "markdown",
   "metadata": {},
   "source": [
    "## 1. Filtering by win shares\n",
    "\n",
    "One incredibly helpful tool for analysis are a player's win shares. According to [basketball-reference.com's page on the win share](https://www.basketball-reference.com/about/ws.html#:~:text=Win%20Shares%20is%20a%20player,the%20individuals%20on%20the%20team), this field is, in essence, the number of wins a given player contributes to his team. The field \"is calculated using player, team and league-wide statistics and the sum of player win shares on a given team will be roughly equal to that team’s win total for the season\". While this datapoint has the potential to be arbitrary, the methodology at least provides a ballpark.\n",
    "\n",
    "**PROPOSAL: Filter out all players who are not in the top 50 win share players in a given season.**"
   ]
  },
  {
   "cell_type": "markdown",
   "metadata": {},
   "source": [
    "### 1.1 Justification\n",
    "\n",
    "To make sure that win shares was a good field to filter by, I decided to analyze the win share values of the player who won the MVP award in each of the years analyzed in this project. The code below displays the rank of each MVP over the last 20 years when sorting all players in the league by win shares:"
   ]
  },
  {
   "cell_type": "code",
   "execution_count": 2,
   "metadata": {},
   "outputs": [
    {
     "name": "stdout",
     "output_type": "stream",
     "text": [
      "[11.0, 1.0, 1.0, 1.0, 15.0, 10.0, 1.0, 4.0, 1.0, 1.0, 5.0, 1.0, 1.0, 1.0, 3.0, 1.0, 5.0, 1.0, 3.0, 4.0] \n",
      "\n",
      "MVPs that led the league in win shares: 11 (55.0%)\n",
      "MVPs that were in the top 10 of league win share getters: 18 (90.0%)\n"
     ]
    }
   ],
   "source": [
    "mvp_ws = []\n",
    "\n",
    "num_first = 0\n",
    "num_top_10 = 0\n",
    "\n",
    "for i in range(len(season_average_dfs) - 1):    # does not include 2020-2021 data, as no MVP has been awarded yet\n",
    "    mvp_index = season_average_dfs[i][\"points_won\"].idxmax()\n",
    "    ws = season_average_dfs[i].ws.rank(ascending=False, method=\"max\")[mvp_index]\n",
    "\n",
    "    if ws == 1:\n",
    "        num_first += 1\n",
    "    if ws <= 10:\n",
    "        num_top_10 += 1\n",
    "\n",
    "    mvp_ws.append(ws)\n",
    "\n",
    "\n",
    "print(mvp_ws, \"\\n\")\n",
    "print(\"MVPs that led the league in win shares:\", num_first, f\"({100 * num_first / len(mvp_ws)}%)\")\n",
    "print(\"MVPs that were in the top 10 of league win share getters:\", num_top_10, f\"({100 * num_top_10 / len(mvp_ws)}%)\")"
   ]
  },
  {
   "cell_type": "markdown",
   "metadata": {},
   "source": [
    "As can be seen, no MVP in the last 20 years has dropped below 15th in the league in win shares, the majority of MVPs are ranked in the top 10, and a bit more than half of MVPs led the league in win shares. \n",
    "\n",
    "The aim of the filtering is also to include players that are not necessarily MVPs, but their statistics and votes/lack of votes are also relevant. Thus, it's also worth analyzing if win shares are related to MVP votes. The analysis below analyzes whether or not each player that received MVP votes was in the top 50 of win share recipients in their given season (the proposed filter):"
   ]
  },
  {
   "cell_type": "code",
   "execution_count": 7,
   "metadata": {},
   "outputs": [
    {
     "name": "stdout",
     "output_type": "stream",
     "text": [
      "16 0\n",
      "14 3\n",
      "11 1\n",
      "13 2\n",
      "14 1\n",
      "10 0\n",
      "14 2\n",
      "15 1\n",
      "11 0\n",
      "13 1\n",
      "11 1\n",
      "13 1\n",
      "14 1\n",
      "15 1\n",
      "11 0\n",
      "9 0\n",
      "10 0\n",
      "12 0\n",
      "11 0\n",
      "11 0\n"
     ]
    }
   ],
   "source": [
    "mvp_ws = []\n",
    "\n",
    "num_first = 0\n",
    "num_top_10 = 0\n",
    "\n",
    "outside_df = pd.DataFrame()\n",
    "\n",
    "for i in range(len(season_average_dfs) - 1):    # does not include 2020-2021 data, as no MVP has been awarded yet\n",
    "    vote_getters = season_average_dfs[i]\n",
    "    vote_getters[\"ws_rank\"] = vote_getters.ws.rank(ascending=False, method=\"max\")\n",
    "\n",
    "    vote_getters = vote_getters.loc[vote_getters[\"points_won\"] > 0]\n",
    "    \n",
    "    num_in_top_50 = len(vote_getters.loc[vote_getters[\"ws_rank\"] <= 50])\n",
    "    num_outside = len(vote_getters.loc[vote_getters[\"ws_rank\"] > 50])\n",
    "\n",
    "    outside_df = outside_df.append(vote_getters.loc[vote_getters[\"ws_rank\"] > 50])\n",
    "\n",
    "    print(f\"In top 50 WS: {num_in_top_50}\", f\"Outside: {num_outside} ({num_outside / len(vote_getters)}%)\")"
   ]
  },
  {
   "cell_type": "code",
   "execution_count": 9,
   "metadata": {},
   "outputs": [
    {
     "data": {
      "text/plain": [
       "35      1.0\n",
       "214    16.0\n",
       "377     3.0\n",
       "398    19.0\n",
       "8       1.0\n",
       "202    11.0\n",
       "68      1.0\n",
       "96      1.0\n",
       "304     3.0\n",
       "269    19.0\n",
       "220     1.0\n",
       "354     5.0\n",
       "370    12.0\n",
       "139     1.0\n",
       "345    21.0\n",
       "Name: points_won, dtype: float64"
      ]
     },
     "execution_count": 9,
     "metadata": {},
     "output_type": "execute_result"
    }
   ],
   "source": [
    "outside_df.append(vote_getters.loc[vote_getters[\"ws_rank\"] > 50]).points_won"
   ]
  }
 ],
 "metadata": {
  "jupytext": {
   "formats": "ipynb,md"
  },
  "kernelspec": {
   "display_name": "Python 3",
   "language": "python",
   "name": "python3"
  },
  "language_info": {
   "codemirror_mode": {
    "name": "ipython",
    "version": 3
   },
   "file_extension": ".py",
   "mimetype": "text/x-python",
   "name": "python",
   "nbconvert_exporter": "python",
   "pygments_lexer": "ipython3",
   "version": "3.8.5"
  }
 },
 "nbformat": 4,
 "nbformat_minor": 4
}
